{
 "cells": [
  {
   "cell_type": "code",
   "execution_count": 1,
   "metadata": {
    "collapsed": true,
    "ExecuteTime": {
     "end_time": "2023-05-16T04:33:49.206969Z",
     "start_time": "2023-05-16T04:33:47.063693Z"
    }
   },
   "outputs": [],
   "source": [
    "# 필요 라이브러리\n",
    "import pandas as pd\n",
    "import my_utils as mu\n",
    "import json\n",
    "from riotwatcher import LolWatcher, ApiError"
   ]
  },
  {
   "cell_type": "markdown",
   "source": [
    "Table : minigame_data\n",
    "columns :\n",
    "minigame_result,int -- 게임 결과\n",
    "match_id,varchar(50) -- 게임 아이디\n",
    "mini_duration,int -- 게임 시간\n",
    "mini_lane,varchar(10) -- 게임 포지션\n",
    "mini_team,int -- blue, red\n",
    "champion_id,int -- 챔피언\n",
    "mini_rune,int -- 사용 룬\n",
    "mini_spell,int -- 사용 스펠"
   ],
   "metadata": {
    "collapsed": false
   }
  },
  {
   "cell_type": "code",
   "execution_count": 4,
   "outputs": [
    {
     "name": "stdout",
     "output_type": "stream",
     "text": [
      "{'id': 'A4ieHcG2aU2ZO6slBWk0SVVK1WQOtfINiU79D_IDpL25jMk', 'accountId': '0RSoSuHKq5crk8X1kFq7ihIo6yrUl1t3BOEMVkCW8xTeZHsyHgs34nXo', 'puuid': 'WEja1ZphkFz-sY-qtv6te_qwpLXZQA-kKfUBiUXwEsq0Rycy8zmkQ44KnI9fyA27QVjdgE0Q6RpL3Q', 'name': 'Quad', 'profileIconId': 4629, 'revisionDate': 1684170756509, 'summonerLevel': 230}\n",
      "[{'leagueId': '70d8c920-e79e-383e-b905-f8e94c2955d2', 'queueType': 'RANKED_SOLO_5x5', 'tier': 'CHALLENGER', 'rank': 'I', 'summonerId': 'A4ieHcG2aU2ZO6slBWk0SVVK1WQOtfINiU79D_IDpL25jMk', 'summonerName': 'Quad', 'leaguePoints': 1487, 'wins': 319, 'losses': 264, 'veteran': True, 'inactive': False, 'freshBlood': False, 'hotStreak': False}]\n",
      "['KR_6497318943', 'KR_6497298519', 'KR_6497264455', 'KR_6497226000', 'KR_6497175579', 'KR_6497093959', 'KR_6492005104', 'KR_6491001451', 'KR_6490955401', 'KR_6489730472', 'KR_6489698268', 'KR_6489599420', 'KR_6489512971', 'KR_6489432575', 'KR_6489311409', 'KR_6489271136', 'KR_6488477968', 'KR_6488415236', 'KR_6488330411', 'KR_6487397627', 'KR_6487361311', 'KR_6487307310', 'KR_6487256251', 'KR_6482340769', 'KR_6482197471', 'KR_6482144321', 'KR_6482056342', 'KR_6481856792', 'KR_6479806745', 'KR_6479695522']\n"
     ]
    }
   ],
   "source": [
    "watcher = LolWatcher(mu.riot_api_key) #riotwatcher 객체 생성\n",
    "my_region = 'kr'\n",
    "summoner_name = 'quad'\n",
    "\n",
    "response = watcher.summoner.by_name(my_region, summoner_name) # 소환사 정보\n",
    "print(response)\n",
    "ranked_stats = watcher.league.by_summoner(my_region, response['id']) # 소환사 랭크 스텟\n",
    "print(ranked_stats)\n",
    "my_matches = watcher.match.matchlist_by_puuid(my_region, response['puuid'], 0, 30) # 최근 게임 30개\n",
    "print(my_matches)\n",
    "\n",
    "minigame_data = []\n",
    "match_detail = watcher.match.by_id(my_region, my_matches[0]) # 매치 정보\n",
    "timeline_detail = watcher.match.timeline_by_match(my_region, my_matches[0]) # 타임라인 정보"
   ],
   "metadata": {
    "collapsed": false,
    "ExecuteTime": {
     "end_time": "2023-05-16T04:36:46.870288200Z",
     "start_time": "2023-05-16T04:36:45.456290900Z"
    }
   }
  },
  {
   "cell_type": "code",
   "execution_count": 40,
   "outputs": [
    {
     "data": {
      "text/plain": "dict_keys(['gameCreation', 'gameDuration', 'gameEndTimestamp', 'gameId', 'gameMode', 'gameName', 'gameStartTimestamp', 'gameType', 'gameVersion', 'mapId', 'participants', 'platformId', 'queueId', 'teams', 'tournamentCode'])"
     },
     "execution_count": 40,
     "metadata": {},
     "output_type": "execute_result"
    }
   ],
   "source": [
    "match_detail['info'].keys()"
   ],
   "metadata": {
    "collapsed": false,
    "ExecuteTime": {
     "end_time": "2023-05-16T05:04:41.028219300Z",
     "start_time": "2023-05-16T05:04:41.017219700Z"
    }
   }
  },
  {
   "cell_type": "code",
   "execution_count": 22,
   "outputs": [
    {
     "data": {
      "text/plain": "False"
     },
     "execution_count": 22,
     "metadata": {},
     "output_type": "execute_result"
    }
   ],
   "source": [
    "match_detail['info']['participants'][9]['win'] # minigame_result"
   ],
   "metadata": {
    "collapsed": false,
    "ExecuteTime": {
     "end_time": "2023-05-16T04:53:41.167287500Z",
     "start_time": "2023-05-16T04:53:41.151291800Z"
    }
   }
  },
  {
   "cell_type": "code",
   "execution_count": 31,
   "outputs": [
    {
     "data": {
      "text/plain": "'KR_6497318943'"
     },
     "execution_count": 31,
     "metadata": {},
     "output_type": "execute_result"
    }
   ],
   "source": [
    "str(\"KR_\") + str(match_detail['info']['gameId']) # match_id"
   ],
   "metadata": {
    "collapsed": false,
    "ExecuteTime": {
     "end_time": "2023-05-16T04:59:37.924087800Z",
     "start_time": "2023-05-16T04:59:37.911087700Z"
    }
   }
  },
  {
   "cell_type": "code",
   "execution_count": 32,
   "outputs": [
    {
     "data": {
      "text/plain": "913"
     },
     "execution_count": 32,
     "metadata": {},
     "output_type": "execute_result"
    }
   ],
   "source": [
    "match_detail['info']['gameDuration'] # mini_duration"
   ],
   "metadata": {
    "collapsed": false,
    "ExecuteTime": {
     "end_time": "2023-05-16T05:00:02.264577800Z",
     "start_time": "2023-05-16T05:00:02.250576800Z"
    }
   }
  },
  {
   "cell_type": "code",
   "execution_count": 87,
   "outputs": [
    {
     "data": {
      "text/plain": "False"
     },
     "execution_count": 87,
     "metadata": {},
     "output_type": "execute_result"
    }
   ],
   "source": [
    "match_detail['info']['participants'][9]['teamPosition'] == 'UTILITY' # mini_lane"
   ],
   "metadata": {
    "collapsed": false,
    "ExecuteTime": {
     "end_time": "2023-05-16T07:46:05.728697900Z",
     "start_time": "2023-05-16T07:46:05.705123100Z"
    }
   }
  },
  {
   "cell_type": "code",
   "execution_count": 44,
   "outputs": [
    {
     "data": {
      "text/plain": "200"
     },
     "execution_count": 44,
     "metadata": {},
     "output_type": "execute_result"
    }
   ],
   "source": [
    "match_detail['info']['participants'][9]['teamId'] # mini_team"
   ],
   "metadata": {
    "collapsed": false,
    "ExecuteTime": {
     "end_time": "2023-05-16T05:08:00.554147100Z",
     "start_time": "2023-05-16T05:08:00.299838600Z"
    }
   }
  },
  {
   "cell_type": "code",
   "execution_count": 45,
   "outputs": [
    {
     "data": {
      "text/plain": "223"
     },
     "execution_count": 45,
     "metadata": {},
     "output_type": "execute_result"
    }
   ],
   "source": [
    "match_detail['info']['participants'][9]['championId'] # champion_id"
   ],
   "metadata": {
    "collapsed": false,
    "ExecuteTime": {
     "end_time": "2023-05-16T05:08:24.371179800Z",
     "start_time": "2023-05-16T05:08:24.321180800Z"
    }
   }
  },
  {
   "cell_type": "code",
   "execution_count": null,
   "outputs": [],
   "source": [
    "match_detail['info']['participants'][9]['championId'] # mini_rune"
   ],
   "metadata": {
    "collapsed": false
   }
  },
  {
   "cell_type": "code",
   "execution_count": 54,
   "outputs": [
    {
     "data": {
      "text/plain": "4"
     },
     "execution_count": 54,
     "metadata": {},
     "output_type": "execute_result"
    }
   ],
   "source": [
    "match_detail['info']['participants'][9]['summoner1Id'] # mini_spell"
   ],
   "metadata": {
    "collapsed": false,
    "ExecuteTime": {
     "end_time": "2023-05-16T05:45:22.673722600Z",
     "start_time": "2023-05-16T05:45:22.664724100Z"
    }
   }
  },
  {
   "cell_type": "code",
   "execution_count": 55,
   "outputs": [
    {
     "data": {
      "text/plain": "14"
     },
     "execution_count": 55,
     "metadata": {},
     "output_type": "execute_result"
    }
   ],
   "source": [
    "match_detail['info']['participants'][9]['summoner2Id'] # mini_spell"
   ],
   "metadata": {
    "collapsed": false,
    "ExecuteTime": {
     "end_time": "2023-05-16T05:45:41.422486100Z",
     "start_time": "2023-05-16T05:45:41.395486600Z"
    }
   }
  },
  {
   "cell_type": "code",
   "execution_count": 57,
   "outputs": [
    {
     "data": {
      "text/plain": "'4|14'"
     },
     "execution_count": 57,
     "metadata": {},
     "output_type": "execute_result"
    }
   ],
   "source": [
    "str(match_detail['info']['participants'][9]['summoner1Id']) + '|' + str(match_detail['info']['participants'][9]['summoner2Id'])"
   ],
   "metadata": {
    "collapsed": false,
    "ExecuteTime": {
     "end_time": "2023-05-16T05:46:47.787977400Z",
     "start_time": "2023-05-16T05:46:47.751980900Z"
    }
   }
  },
  {
   "cell_type": "code",
   "execution_count": 71,
   "outputs": [
    {
     "data": {
      "text/plain": "8316"
     },
     "execution_count": 71,
     "metadata": {},
     "output_type": "execute_result"
    }
   ],
   "source": [
    "match_detail['info']['participants'][9]['perks']['styles'][0]['selections'][0]['perk']\n",
    "match_detail['info']['participants'][9]['perks']['styles'][1]['selections'][0]['perk']"
   ],
   "metadata": {
    "collapsed": false,
    "ExecuteTime": {
     "end_time": "2023-05-16T06:56:19.884002200Z",
     "start_time": "2023-05-16T06:56:19.863003900Z"
    }
   }
  },
  {
   "cell_type": "code",
   "execution_count": 96,
   "outputs": [
    {
     "name": "stdout",
     "output_type": "stream",
     "text": [
      "0,0\n",
      "0,1\n",
      "0,2\n",
      "0,3\n"
     ]
    }
   ],
   "source": [
    "perkString = \"\"\n",
    "for i in range(len(match_detail['info']['participants'][9]['perks']['styles'])) :\n",
    "    for j in range(len(match_detail['info']['participants'][9]['perks']['styles'][i]['selections'])) :\n",
    "        perkString += str(match_detail['info']['participants'][9]['perks']['styles'][i]['selections'][j]['perk'])\n",
    "        if(i != 1 and j != len(match_detail['info']['participants'][9]['perks']['styles'][i]['selections'])) :\n",
    "            print(str(i) + \",\" + str(j))\n",
    "            perkString +=  \"|\""
   ],
   "metadata": {
    "collapsed": false,
    "ExecuteTime": {
     "end_time": "2023-05-16T07:49:35.197029700Z",
     "start_time": "2023-05-16T07:49:35.177022600Z"
    }
   }
  },
  {
   "cell_type": "code",
   "execution_count": 92,
   "outputs": [
    {
     "data": {
      "text/plain": "'84658463847382428316|8347|'"
     },
     "execution_count": 92,
     "metadata": {},
     "output_type": "execute_result"
    }
   ],
   "source": [
    "perkString"
   ],
   "metadata": {
    "collapsed": false,
    "ExecuteTime": {
     "end_time": "2023-05-16T07:47:48.285935400Z",
     "start_time": "2023-05-16T07:47:48.268938500Z"
    }
   }
  },
  {
   "cell_type": "code",
   "execution_count": null,
   "outputs": [],
   "source": [],
   "metadata": {
    "collapsed": false
   }
  }
 ],
 "metadata": {
  "kernelspec": {
   "display_name": "Python 3",
   "language": "python",
   "name": "python3"
  },
  "language_info": {
   "codemirror_mode": {
    "name": "ipython",
    "version": 2
   },
   "file_extension": ".py",
   "mimetype": "text/x-python",
   "name": "python",
   "nbconvert_exporter": "python",
   "pygments_lexer": "ipython2",
   "version": "2.7.6"
  }
 },
 "nbformat": 4,
 "nbformat_minor": 0
}
